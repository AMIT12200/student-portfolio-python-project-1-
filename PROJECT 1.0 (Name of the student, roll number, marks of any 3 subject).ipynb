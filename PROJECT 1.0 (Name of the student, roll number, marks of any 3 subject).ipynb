{
 "cells": [
  {
   "cell_type": "markdown",
   "id": "f168d55c",
   "metadata": {},
   "source": [
    "# STUDENT PORTFOLIO\n",
    "Student Details"
   ]
  },
  {
   "cell_type": "code",
   "execution_count": 16,
   "id": "67750d81",
   "metadata": {},
   "outputs": [
    {
     "name": "stdout",
     "output_type": "stream",
     "text": [
      "ENTER STUDENT NAME : Amit\n",
      "Standard : 4th\n",
      "Division : B\n",
      "RollNo : 69\n"
     ]
    }
   ],
   "source": [
    "name = str(input(\"ENTER STUDENT NAME : \"  ))\n",
    "std = (input(\"Standard : \" ))\n",
    "div = str(input(\"Division : \"))\n",
    "rollno = int(input(\"RollNo : \" ))"
   ]
  },
  {
   "cell_type": "code",
   "execution_count": null,
   "id": "757406e4",
   "metadata": {},
   "outputs": [],
   "source": [
    "##Subjects Marks are out of 100\n"
   ]
  },
  {
   "cell_type": "code",
   "execution_count": 5,
   "id": "4e5cef3a",
   "metadata": {},
   "outputs": [
    {
     "name": "stdout",
     "output_type": "stream",
     "text": [
      "Enter your marks in English :  \n",
      "85.01\n",
      "Enter your marks in Maths : \n",
      "85.02\n",
      "Enter your marks in Science : \n",
      "89.05\n"
     ]
    }
   ],
   "source": [
    "sub1 = float(input(\"Enter your marks in English :  \" + \"\\n\"))\n",
    "sub2 = float(input(\"Enter your marks in Maths : \" + \"\\n\"))\n",
    "sub3 = float(input(\"Enter your marks in Science : \" + \"\\n\"))\n"
   ]
  },
  {
   "cell_type": "code",
   "execution_count": 7,
   "id": "ef71d239",
   "metadata": {},
   "outputs": [],
   "source": [
    "#total marks scored including 3 subjects"
   ]
  },
  {
   "cell_type": "code",
   "execution_count": 12,
   "id": "aeacd22a",
   "metadata": {},
   "outputs": [
    {
     "name": "stdout",
     "output_type": "stream",
     "text": [
      "TOTAL MARKS : 259.08\n"
     ]
    }
   ],
   "source": [
    "total = sub1 + sub2 + sub3\n",
    "print (\"TOTAL MARKS : \" + str(total))\n"
   ]
  },
  {
   "cell_type": "code",
   "execution_count": 13,
   "id": "19fbe2d1",
   "metadata": {},
   "outputs": [],
   "source": [
    "#Percentage scored"
   ]
  },
  {
   "cell_type": "code",
   "execution_count": 15,
   "id": "fcba2d66",
   "metadata": {},
   "outputs": [
    {
     "name": "stdout",
     "output_type": "stream",
     "text": [
      "PERCENTAGE : 86.35999999999999\n"
     ]
    }
   ],
   "source": [
    "percent = (total/300)*100\n",
    "print (\"PERCENTAGE : \" + str(percent))"
   ]
  },
  {
   "cell_type": "code",
   "execution_count": 24,
   "id": "e0d098e4",
   "metadata": {},
   "outputs": [
    {
     "name": "stdout",
     "output_type": "stream",
     "text": [
      "NAME : Amit\n",
      "STANDARD : 4th\n",
      "DIVISION : B\n",
      "ROLL_NO : 69\n",
      "\n",
      "ENGLISH : 85.01\n",
      "MATHS : 85.02\n",
      "SCIENCE : 89.05\n",
      "\n",
      "TOTAL MARKS : 259.08\n",
      "\n",
      "PERCENTAGE : 86.35999999999999 % \n"
     ]
    }
   ],
   "source": [
    "print(\"NAME : \" + str(name) + \"\\n\" + \"STANDARD : \" + str(std) + \"\\n\" + \"DIVISION : \" + str(div) + \"\\n\" + \"ROLL_NO : \" + str(rollno) + \"\\n\" + \"\\n\" + \"ENGLISH : \" + str(sub1) + \"\\n\" + \"MATHS : \" + str(sub2) + \"\\n\" + \"SCIENCE : \" + str(sub3) + \"\\n\" + \"\\n\" + \"TOTAL MARKS : \" + str(total) + \"\\n\" + \"\\n\" + \"PERCENTAGE : \" + str(percent) + \" % \")"
   ]
  },
  {
   "cell_type": "code",
   "execution_count": null,
   "id": "92b4b9f0",
   "metadata": {},
   "outputs": [],
   "source": []
  }
 ],
 "metadata": {
  "kernelspec": {
   "display_name": "Python 3",
   "language": "python",
   "name": "python3"
  },
  "language_info": {
   "codemirror_mode": {
    "name": "ipython",
    "version": 3
   },
   "file_extension": ".py",
   "mimetype": "text/x-python",
   "name": "python",
   "nbconvert_exporter": "python",
   "pygments_lexer": "ipython3",
   "version": "3.8.8"
  }
 },
 "nbformat": 4,
 "nbformat_minor": 5
}
